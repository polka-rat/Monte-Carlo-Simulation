{
 "cells": [
  {
   "cell_type": "markdown",
   "id": "e3973444",
   "metadata": {},
   "source": [
    "## Pricing Options by Monte Carlo Simulation\n",
    "\n",
    "Pricing European Call Options using Monte Carlo simulations and comparing it to the option price determined by the Black Scholes Model.\n",
    "\n",
    "Also comparing both of them to the option price valuated in real life"
   ]
  },
  {
   "cell_type": "code",
   "execution_count": 66,
   "id": "11e98efe",
   "metadata": {},
   "outputs": [],
   "source": [
    " #Importing necessary libraries\n",
    "import numpy as np\n",
    "import pandas as pd\n",
    "import datetime as dt\n",
    "import matplotlib.pyplot as plt\n",
    "import pandas_datareader.data as web\n",
    "import yfinance as yf\n",
    "from scipy.stats import norm"
   ]
  },
  {
   "cell_type": "markdown",
   "id": "84ee0a28",
   "metadata": {},
   "source": [
    "## Option Pricing By Black Scholes\n",
    "\n",
    "The Black-Scholes model assumes that the stock price follows a geometric Brownian motion (with risk neutral pricing and no arbitrage):\n",
    "\n",
    "$$dS_t = rS_tdt + \\sigma S_tdW_t$$\n",
    "\n",
    "where:\n",
    "- $S_t$ is the stock price at time $t$\n",
    "- $r$ is the risk-free rate\n",
    "- $\\sigma$ is the volatility\n",
    "- $W_t$ is a Weiner pocess/ standard Brownian motion\n",
    "\n",
    "Upon solving this Differential Equation (using Itô's lemma), we get:\n",
    "\n",
    "$$C(S_0, K, T) = S_0\\Phi(d_1) - Ke^{-rT}\\Phi(d_2)$$\n",
    "\n",
    "where:\n",
    "$$d_1 = \\frac{\\ln(S_0/K) + (r + \\sigma^2/2)T}{\\sigma\\sqrt{T}}$$\n",
    "$$d_2 = d_1 - \\sigma\\sqrt{T}$$\n",
    "and $\\Phi$ is the standard normal CDF.\n"
   ]
  },
  {
   "cell_type": "code",
   "execution_count": 67,
   "id": "99ed5d5f",
   "metadata": {},
   "outputs": [],
   "source": [
    "def BlackScholesPricing(S0,K,T,r,sigma):\n",
    "    d1 = (np.log(S0 / K) + (r + 0.5 * sigma**2) * T) / (sigma * np.sqrt(T))\n",
    "    d2 = d1 - sigma * np.sqrt(T)\n",
    "    return S0 * norm.cdf(d1) - K * np.exp(-r * T) * norm.cdf(d2)"
   ]
  },
  {
   "cell_type": "markdown",
   "id": "72121f6c",
   "metadata": {},
   "source": [
    "\n",
    "## Option Pricing By Monte Carlo Simulation\n",
    "\n",
    "The fundamental theorem of asset pricing states that in the absence of arbitrage, there exists a risk-neutral measure Q, under which the discounted price process is a martingale (expected future payoff = current payoff). For a European call option with strike $K$ and maturity $T$, the price is:\n",
    "\n",
    "$$C(S_0, K, T) = e^{-rT}E^{Q}[\\max(S_T - K, 0)]$$\n",
    "\n",
    "Rather than solving the Black Scholes DE, we could price options using Monte Carlo simulation by directly approximating the risk-neutral expectation:\n",
    "\n",
    "$$C(S_0, K, T) = e^{-rT}E^{Q}[\\max(S_T - K, 0)]$$\n",
    "\n",
    "Under the risk-neutral measure, the terminal stock price $S_T$ follows a lognormal distribution (log ($S_T$) is normally distributed):\n",
    "\n",
    "$$S_T = S_0\\exp((r-\\frac{1}{2}\\sigma^2)T + \\sigma\\sqrt{T}Z)$$ \n",
    "\n",
    "where $Z \\sim N(0,1)$ (standard normal distribution)\n",
    "\n",
    "The Monte Carlo method involves:\n",
    "1. Generate n independent draws $Z_i \\sim N(0,1)$\n",
    "2. Calculate terminal prices $S_T^i$ using the formula above\n",
    "3. Calculate option payoffs $\\max(S_T^i - K, 0)$\n",
    "4. Average and discount: $\\frac{e^{-rT}}{n}\\sum_{i=1}^n \\max(S_T^i - K, 0)$\n"
   ]
  },
  {
   "cell_type": "code",
   "execution_count": 68,
   "id": "4c8fbcf8",
   "metadata": {},
   "outputs": [],
   "source": [
    "def MonteCarloPricing(S0,K,T,r,sigma,n_simulations=1000000):\n",
    "    np.random.seed(42)\n",
    "    Z = np.random.standard_normal(n_simulations)\n",
    "    ST = S0 * np.exp((r - 0.5 * sigma**2) * T + sigma * (T**0.5) * Z)\n",
    "    payoffs = np.maximum(ST - K, 0)\n",
    "    disc_payoff=np.exp(-r * T) *payoffs\n",
    "    return disc_payoff\n",
    "    "
   ]
  },
  {
   "cell_type": "markdown",
   "id": "1d9db477",
   "metadata": {},
   "source": [
    "## Getting the Returns and Volatitity using Historic data"
   ]
  },
  {
   "cell_type": "code",
   "execution_count": 69,
   "id": "6b2baa46",
   "metadata": {},
   "outputs": [
    {
     "name": "stderr",
     "output_type": "stream",
     "text": [
      "[*********************100%***********************]  1 of 1 completed"
     ]
    },
    {
     "name": "stdout",
     "output_type": "stream",
     "text": [
      "0.00017443557852183175\n",
      "0.3288382544599955\n"
     ]
    },
    {
     "name": "stderr",
     "output_type": "stream",
     "text": [
      "\n",
      "C:\\Users\\shand\\AppData\\Local\\Packages\\PythonSoftwareFoundation.Python.3.12_qbz5n2kfra8p0\\LocalCache\\local-packages\\Python312\\site-packages\\numpy\\core\\fromnumeric.py:3643: FutureWarning: The behavior of DataFrame.std with axis=None is deprecated, in a future version this will reduce over both axes and return a scalar. To retain the old behavior, pass axis=0 (or do not pass axis)\n",
      "  return std(axis=axis, dtype=dtype, out=out, ddof=ddof, **kwargs)\n",
      "C:\\Users\\shand\\AppData\\Local\\Temp\\ipykernel_23040\\2352858942.py:10: FutureWarning: Calling float on a single element Series is deprecated and will raise a TypeError in the future. Use float(ser.iloc[0]) instead\n",
      "  volatility = float(np.std(returns) * np.sqrt(252))  # Annualized\n"
     ]
    }
   ],
   "source": [
    "# Fetching AAPL price data for 2024-2025 period\n",
    "ticker = \"AAPL\"\n",
    "start_date = \"2024-06-02\"\n",
    "end_date = \"2025-06-03\"\n",
    "data = pd.DataFrame(yf.download(ticker, start=start_date, end=end_date))\n",
    "close_prices=data['Close']\n",
    "\n",
    "# Calculating volatility and returns\n",
    "returns = np.log(close_prices / close_prices.shift(1)).dropna()  #Assuming stock prices follow a lognormal distribution\n",
    "volatility = float(np.std(returns) * np.sqrt(252))  # Annualized\n",
    "print(np.mean(returns))\n",
    "print(volatility)\n",
    "\n"
   ]
  },
  {
   "cell_type": "markdown",
   "id": "20be9c7f",
   "metadata": {},
   "source": [
    "## Getting the Closest Option Price Traded in real life"
   ]
  },
  {
   "cell_type": "code",
   "execution_count": 70,
   "id": "b969a028",
   "metadata": {},
   "outputs": [
    {
     "name": "stdout",
     "output_type": "stream",
     "text": [
      "         contractSymbol             lastTradeDate  strike  lastPrice  bid  \\\n",
      "24  AAPL250606C00202500 2025-06-05 19:59:56+00:00   202.5       0.75  0.0   \n",
      "\n",
      "    ask  change  percentChange   volume  openInterest  impliedVolatility  \\\n",
      "24  0.0     0.0            0.0  52988.0             0           0.062509   \n",
      "\n",
      "    inTheMoney contractSize currency  \n",
      "24       False      REGULAR      USD  \n",
      "Closest available strike to S0: 202.5 $\n",
      "Market price of this option: 0.75 $\n",
      "Implied Volatility from market: 0.062509375 $\n"
     ]
    },
    {
     "name": "stderr",
     "output_type": "stream",
     "text": [
      "C:\\Users\\shand\\AppData\\Local\\Temp\\ipykernel_23040\\2421075215.py:8: FutureWarning: Calling float on a single element Series is deprecated and will raise a TypeError in the future. Use float(ser.iloc[0]) instead\n",
      "  S0 = float(data.loc[\"2025-06-02\"][\"Close\"] )   # First closing price\n"
     ]
    }
   ],
   "source": [
    "\n",
    "stock = yf.Ticker('AAPL')\n",
    "option_chain = stock.option_chain(\"2025-06-06\")\n",
    "calls=pd.DataFrame(option_chain.calls)\n",
    "calls['lastTradeDate'] = pd.to_datetime(calls['lastTradeDate'])\n",
    "\n",
    "exp = calls[calls['lastTradeDate'].dt.date == pd.to_datetime('2025-06-05').date()] # Filtering rows where the date part matches 2025-06-03\n",
    "\n",
    "S0 = float(data.loc[\"2025-06-02\"][\"Close\"] )   # First closing price\n",
    "target_strike = round(S0, 0)\n",
    "\n",
    "# Filter option chain for matching strike\n",
    "closest_option = exp.iloc[(exp['strike'] - target_strike).abs().argsort()[:1]]\n",
    "\n",
    "print(closest_option)\n",
    "# Extract the real market price of this option\n",
    "irl_price = float(closest_option['lastPrice'].values[0])\n",
    "irl_strike = float(closest_option['strike'].values[0])  # just for info\n",
    "irl_iv = float(closest_option['impliedVolatility'].values[0])  # optional\n",
    "\n",
    "print(f\"Closest available strike to S0: {irl_strike} $\")\n",
    "print(f\"Market price of this option: {irl_price} $\")\n",
    "print(f\"Implied Volatility from market: {irl_iv} $\")"
   ]
  },
  {
   "cell_type": "markdown",
   "id": "ced7fb09",
   "metadata": {},
   "source": [
    "To get the risk free rate, I am using the Market Yield on U.S. Treasury Securities at 1-Year Constant Maturity"
   ]
  },
  {
   "cell_type": "code",
   "execution_count": 71,
   "id": "03cab3b5",
   "metadata": {},
   "outputs": [
    {
     "name": "stdout",
     "output_type": "stream",
     "text": [
      "5.108095238095237\n"
     ]
    }
   ],
   "source": [
    "US_Treasury_Rates = pd.DataFrame(web.DataReader('DGS1', 'fred', start_date, '2024-07-02')) # Gives the daily yield on U.S. Treasury securities with a 1-year maturity\n",
    "\n",
    "rf_rates = US_Treasury_Rates['DGS1'].to_numpy()\n",
    "rf_rates=rf_rates[~np.isnan(rf_rates)]\n",
    "rf_rate=np.mean(rf_rates)\n",
    "print(rf_rate)  \n"
   ]
  },
  {
   "cell_type": "code",
   "execution_count": 72,
   "id": "691e6f4b",
   "metadata": {},
   "outputs": [
    {
     "name": "stdout",
     "output_type": "stream",
     "text": [
      "Estimated Annual Volatility: 0.3288\n",
      "Monte Carlo Price (European Call): 200.4762 $\n",
      "Black-Scholes Price (European Call): 200.4802 $\n",
      "Closest Real Life Price (European Call): 202.5 $\n",
      "Deviation of Monte Carlo Option Pricing from that determined by Black Scholes: 0.002011573888538997 %\n",
      "Deviation of Monte Carlo Option Pricing from the Closest real life call option price: 0.9994246823978413 %\n"
     ]
    }
   ],
   "source": [
    "# Step 3: Set option parameters\n",
    "# S0 = float(data.loc[\"2024-06-03\"][\"Close\"] )   # First closing price\n",
    "K = S0           # Strike Price (At the money option for simplicity)\n",
    "T = 1            # Maturity Period (in years)\n",
    "r = rf_rate       # Risk Free Rate\n",
    "sigma = volatility # Volatility\n",
    "n_simulations = 10000000  # Number of simulations\n",
    " \n",
    "disc_payoff= MonteCarloPricing(S0,K,T,r,sigma,n_simulations)  \n",
    "mc_price=np.mean(disc_payoff)  # Option price determined by Monte Carlo\n",
    "bs_price =BlackScholesPricing(S0,K,T,r,sigma) # Option price determined by Monte Carlo\n",
    "\n",
    "print(f\"Estimated Annual Volatility: {round(sigma, 4)}\")\n",
    "print(f\"Monte Carlo Price (European Call): {round(mc_price, 4)} $\")\n",
    "print(f\"Black-Scholes Price (European Call): {round(bs_price, 4)} $\")\n",
    "print(f\"Closest Real Life Price (European Call): {round(irl_strike, 4)} $\")\n",
    "\n",
    "print(f\"Deviation of Monte Carlo Option Pricing from that determined by Black Scholes: {abs(bs_price-mc_price)*100/bs_price} %\")\n",
    "print(f\"Deviation of Monte Carlo Option Pricing from the Closest real life call option price: {abs(mc_price-irl_strike)*100/irl_strike} %\")"
   ]
  },
  {
   "cell_type": "markdown",
   "id": "da674bb2",
   "metadata": {},
   "source": [
    "We see that analytically solving Black Scholes and Monte Carlo Simulation led us  approximately to the same value (which wasnt that far off from the real strike price as well)\n",
    "\n",
    "This was obvious since by the Law of Large Numbers (as sampling tends to $\\infty$, sampled mean should converge to true mean):\n",
    "\n",
    "$$ \\lim_{n \\to \\infty} \\frac{1}{n}\\sum_{i=1}^n \\max(S_T^i - K, 0) \\xrightarrow{}E^{Q}[\\max(S_T - K, 0)]$$\n",
    "\n",
    "\n"
   ]
  },
  {
   "cell_type": "markdown",
   "id": "68858998",
   "metadata": {},
   "source": [
    "Plotting all the simulated option prices"
   ]
  },
  {
   "cell_type": "code",
   "execution_count": 73,
   "id": "4ff8387b",
   "metadata": {},
   "outputs": [
    {
     "data": {
      "image/png": "[encoded data removed]",
      "text/plain": [
       "<Figure size 800x500 with 1 Axes>"
      ]
     },
     "metadata": {},
     "output_type": "display_data"
    }
   ],
   "source": [
    "plt.figure(figsize=(8,5))\n",
    "plt.hist(disc_payoff, bins=50, color='skyblue', alpha=0.9)\n",
    "plt.title(\"Histogram of Simulated Option Prices At Maturity\")\n",
    "plt.axvline(x=bs_price, color='pink', linestyle='--', linewidth=2, label=f'Black Scholes Price = {bs_price:.2f}')\n",
    "plt.axvline(x=mc_price, color='green', linestyle='--', linewidth=2, label=f'Monte Carlo Price = {mc_price:.2f}')\n",
    "plt.axvline(x=irl_strike, color='red', linestyle='--', linewidth=2, label=f'Actual Option Price = {irl_strike:.2f}')\n",
    "plt.xlim(0, 650)  \n",
    "plt.xlabel(\"Option Price\")\n",
    "plt.ylabel(\"Frequency\")\n",
    "plt.legend()\n",
    "plt.grid(False)\n",
    "plt.show()\n"
   ]
  }
 ],
 "metadata": {
  "kernelspec": {
   "display_name": "Python 3",
   "language": "python",
   "name": "python3"
  },
  "language_info": {
   "codemirror_mode": {
    "name": "ipython",
    "version": 3
   },
   "file_extension": ".py",
   "mimetype": "text/x-python",
   "name": "python",
   "nbconvert_exporter": "python",
   "pygments_lexer": "ipython3",
   "version": "3.12.10"
  }
 },
 "nbformat": 4,
 "nbformat_minor": 5
}
